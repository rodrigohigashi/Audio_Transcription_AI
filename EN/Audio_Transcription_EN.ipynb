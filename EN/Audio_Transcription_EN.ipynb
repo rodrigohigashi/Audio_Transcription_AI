{
 "cells": [
  {
   "cell_type": "code",
   "execution_count": 1,
   "id": "4a9cd139",
   "metadata": {},
   "outputs": [],
   "source": [
    "import openai\n",
    "import os\n",
    "import csv\n",
    "from dotenv import load_dotenv, find_dotenv\n",
    "\n",
    "_ = load_dotenv(find_dotenv())\n",
    "\n",
    "client = openai.Client()"
   ]
  },
  {
   "cell_type": "code",
   "execution_count": 2,
   "id": "228e27cc",
   "metadata": {},
   "outputs": [
    {
     "name": "stdout",
     "output_type": "stream",
     "text": [
      "Hello, this audio is a demonstration created by me to accompany the code I developed for audio transcription. Since the audio was produced by me, there are no copyright issues involved. I want to make clear that the purpose of this code is strictly for personal and educational use. The original audio I used for testing is not included in this project out of respect for copyright. Thank you for your understanding.\n"
     ]
    }
   ],
   "source": [
    "audio = open('../audios/audio_EN.mp3', 'rb')\n",
    "transcription = client.audio.transcriptions.create(\n",
    "    model='whisper-1',\n",
    "    file=audio,\n",
    "    response_format='verbose_json'\n",
    ")\n",
    "print(transcription.text)\n",
    "\n",
    "path_audio = '../audios/audio_EN.mp3'"
   ]
  },
  {
   "cell_type": "code",
   "execution_count": 3,
   "id": "4252a944",
   "metadata": {},
   "outputs": [
    {
     "name": "stdout",
     "output_type": "stream",
     "text": [
      "\n",
      "✅ Transcription with timestamps save in: ../audios\\audio_EN_transcription.txt\n"
     ]
    }
   ],
   "source": [
    "# ⚠️ Becoming object in dict\n",
    "json_data = transcription.model_dump()\n",
    "\n",
    "name_txt = os.path.splitext(os.path.basename(path_audio))[0] + \"_transcription.txt\" \n",
    "path_txt = os.path.join(os.path.dirname(path_audio), name_txt)                 \n",
    "\n",
    "# Write transcription with timestamps in .txt\n",
    "with open(path_txt, \"w\", encoding=\"utf-8\") as f:\n",
    "    for segment in json_data['segments']:\n",
    "        beginning = segment['start']\n",
    "        end = segment['end']\n",
    "        text = segment['text']\n",
    "        f.write(f\"[{beginning:.2f}s - {end:.2f}s] {text}\\n\")\n",
    "\n",
    "print(f\"\\n✅ Transcription with timestamps save in: {path_txt}\")"
   ]
  },
  {
   "cell_type": "code",
   "execution_count": 4,
   "id": "1ac77cb5",
   "metadata": {},
   "outputs": [
    {
     "name": "stdout",
     "output_type": "stream",
     "text": [
      "✅ Transcrição com timestamps salva também em CSV: ../audios\\audio_EN_transcription.csv\n"
     ]
    }
   ],
   "source": [
    "# Generate file name in CSV with bases on audio name\n",
    "nome_csv = os.path.splitext(os.path.basename(path_audio))[0] + \"_transcription.csv\"\n",
    "path_csv = os.path.join(os.path.dirname(path_audio), nome_csv)\n",
    "\n",
    "# Escreve transcrição com timestamps no .csv\n",
    "with open(path_csv, \"w\", encoding=\"utf-8-sig\", newline=\"\") as csvfile:\n",
    "    writer = csv.writer(csvfile, delimiter=';')\n",
    "    writer.writerow([\"start\", \"end\", \"text\"])  # cabeçalhos\n",
    "\n",
    "    for segment in json_data['segments']:\n",
    "        beginning = segment['start']\n",
    "        end = segment['end']\n",
    "        text = segment['text']\n",
    "        writer.writerow([f\"{beginning:.2f}\", f\"{end:.2f}\", text])\n",
    "\n",
    "print(f\"✅ Transcrição com timestamps salva também em CSV: {path_csv}\")"
   ]
  }
 ],
 "metadata": {
  "kernelspec": {
   "display_name": "ia-IzmrRSMO-py3.11",
   "language": "python",
   "name": "python3"
  },
  "language_info": {
   "codemirror_mode": {
    "name": "ipython",
    "version": 3
   },
   "file_extension": ".py",
   "mimetype": "text/x-python",
   "name": "python",
   "nbconvert_exporter": "python",
   "pygments_lexer": "ipython3",
   "version": "3.11.0"
  }
 },
 "nbformat": 4,
 "nbformat_minor": 5
}
