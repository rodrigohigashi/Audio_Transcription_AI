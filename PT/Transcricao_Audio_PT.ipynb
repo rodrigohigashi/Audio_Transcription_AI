{
 "cells": [
  {
   "cell_type": "code",
   "execution_count": 1,
   "id": "cf98819a",
   "metadata": {},
   "outputs": [],
   "source": [
    "import openai\n",
    "import os\n",
    "import csv\n",
    "from dotenv import load_dotenv, find_dotenv\n",
    "\n",
    "_ = load_dotenv(find_dotenv())\n",
    "\n",
    "client = openai.Client()"
   ]
  },
  {
   "cell_type": "code",
   "execution_count": 2,
   "id": "9dfe0b3d",
   "metadata": {},
   "outputs": [
    {
     "name": "stdout",
     "output_type": "stream",
     "text": [
      "Olá, este áudio é uma demonstração criada por mim para acompanhar o código que desenvolvi para realizar a transcrição de áudio. Como este áudio foi produzido por mim, não há nenhum problema relacionado a direitos autorais. Gostaria de deixar claro que o propósito deste código é exclusivamente para uso pessoal e fins didáticos. O áudio original que utilizei para este teste não está incluído neste projeto para respeitar os direitos autorais. Obrigado por entender.\n"
     ]
    }
   ],
   "source": [
    "audio = open('../audios/audio_PT.mp3', 'rb')\n",
    "transcricao = client.audio.transcriptions.create(\n",
    "    model='whisper-1',\n",
    "    file=audio,\n",
    "    response_format='verbose_json'\n",
    ")\n",
    "print(transcricao.text)\n",
    "\n",
    "caminho_audio = '../audios/audio_PT.mp3'"
   ]
  },
  {
   "cell_type": "code",
   "execution_count": 3,
   "id": "fedb935b",
   "metadata": {},
   "outputs": [
    {
     "name": "stdout",
     "output_type": "stream",
     "text": [
      "\n",
      "✅ Transcrição com timestamps salva em: ../audios\\audio_PT_transcricao.txt\n"
     ]
    }
   ],
   "source": [
    "# ⚠️ Aqui é onde transformamos o objeto em dict\n",
    "json_data = transcricao.model_dump()\n",
    "\n",
    "nome_txt = os.path.splitext(os.path.basename(caminho_audio))[0] + \"_transcricao.txt\" # com base no nome do audio, faz o nome do arquivo com _transcricao.txt no fim\n",
    "caminho_txt = os.path.join(os.path.dirname(caminho_audio), nome_txt)                 # com base no diretório do arquivo, faz o caminho + arquivo de transcricao\n",
    "\n",
    "# Escreve transcrição com timestamps no .txt\n",
    "with open(caminho_txt, \"w\", encoding=\"utf-8\") as f:\n",
    "    for segmento in json_data['segments']:\n",
    "        inicio = segmento['start']\n",
    "        fim = segmento['end']\n",
    "        texto = segmento['text']\n",
    "        f.write(f\"[{inicio:.2f}s - {fim:.2f}s] {texto}\\n\")\n",
    "\n",
    "print(f\"\\n✅ Transcrição com timestamps salva em: {caminho_txt}\")"
   ]
  },
  {
   "cell_type": "code",
   "execution_count": 4,
   "id": "284edd3b",
   "metadata": {},
   "outputs": [
    {
     "name": "stdout",
     "output_type": "stream",
     "text": [
      "✅ Transcrição com timestamps salva também em CSV: ../audios\\audio_PT_transcricao.csv\n"
     ]
    }
   ],
   "source": [
    "# Gera nome do arquivo CSV com base no nome do áudio\n",
    "nome_csv = os.path.splitext(os.path.basename(caminho_audio))[0] + \"_transcricao.csv\"\n",
    "caminho_csv = os.path.join(os.path.dirname(caminho_audio), nome_csv)\n",
    "\n",
    "# Escreve transcrição com timestamps no .csv\n",
    "with open(caminho_csv, \"w\", encoding=\"utf-8-sig\", newline=\"\") as csvfile:\n",
    "    writer = csv.writer(csvfile, delimiter=';')\n",
    "    writer.writerow([\"start\", \"end\", \"text\"])  # cabeçalhos\n",
    "\n",
    "    for segmento in json_data['segments']:\n",
    "        inicio = segmento['start']\n",
    "        fim = segmento['end']\n",
    "        texto = segmento['text']\n",
    "        writer.writerow([f\"{inicio:.2f}\", f\"{fim:.2f}\", texto])\n",
    "\n",
    "print(f\"✅ Transcrição com timestamps salva também em CSV: {caminho_csv}\")"
   ]
  }
 ],
 "metadata": {
  "kernelspec": {
   "display_name": "ia-IzmrRSMO-py3.11",
   "language": "python",
   "name": "python3"
  },
  "language_info": {
   "codemirror_mode": {
    "name": "ipython",
    "version": 3
   },
   "file_extension": ".py",
   "mimetype": "text/x-python",
   "name": "python",
   "nbconvert_exporter": "python",
   "pygments_lexer": "ipython3",
   "version": "3.11.0"
  }
 },
 "nbformat": 4,
 "nbformat_minor": 5
}
